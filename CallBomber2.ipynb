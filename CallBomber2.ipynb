{
  "nbformat": 4,
  "nbformat_minor": 0,
  "metadata": {
    "colab": {
      "name": "CallBomber2",
      "provenance": [],
      "collapsed_sections": [],
      "authorship_tag": "ABX9TyObUXzENObANGaKmkmdR9Tt",
      "include_colab_link": true
    },
    "kernelspec": {
      "name": "python3",
      "display_name": "Python 3"
    },
    "language_info": {
      "name": "python"
    }
  },
  "cells": [
    {
      "cell_type": "markdown",
      "metadata": {
        "id": "view-in-github",
        "colab_type": "text"
      },
      "source": [
        "<a href=\"https://colab.research.google.com/github/DrakeDrac/CallBomber/blob/main/CallBomber2.ipynb\" target=\"_parent\"><img src=\"https://colab.research.google.com/assets/colab-badge.svg\" alt=\"Open In Colab\"/></a>"
      ]
    },
    {
      "cell_type": "code",
      "metadata": {
        "colab": {
          "base_uri": "https://localhost:8080/"
        },
        "id": "ntSBtrnqTHCQ",
        "outputId": "9a0f6040-1e6d-4f6d-86e5-aa7e3ac3f86e"
      },
      "source": [
        "!git clone https://github.com/DrakeDrac/CallBomber"
      ],
      "execution_count": 1,
      "outputs": [
        {
          "output_type": "stream",
          "text": [
            "Cloning into 'CallBomber'...\n",
            "remote: Enumerating objects: 4, done.\u001b[K\n",
            "remote: Counting objects: 100% (4/4), done.\u001b[K\n",
            "remote: Compressing objects: 100% (3/3), done.\u001b[K\n",
            "remote: Total 4 (delta 0), reused 0 (delta 0), pack-reused 0\u001b[K\n",
            "Unpacking objects: 100% (4/4), done.\n"
          ],
          "name": "stdout"
        }
      ]
    },
    {
      "cell_type": "code",
      "metadata": {
        "colab": {
          "base_uri": "https://localhost:8080/"
        },
        "id": "r0OKAmrsTT_m",
        "outputId": "d4b63619-3b1e-427e-b7fc-5c4958543d29"
      },
      "source": [
        "!pip install -r /content/CallBomber/requirements.txt\n",
        "!chmod +x /content/CallBomber/bomber.py\n",
        "!python3 /content/CallBomber/bomber.py call"
      ],
      "execution_count": 5,
      "outputs": [
        {
          "output_type": "stream",
          "text": [
            "Requirement already satisfied: requests<3,>=2 in /usr/local/lib/python3.7/dist-packages (from -r /content/CallBomber/requirements.txt (line 1)) (2.23.0)\n",
            "Requirement already satisfied: urllib3<2,>=1 in /usr/local/lib/python3.7/dist-packages (from -r /content/CallBomber/requirements.txt (line 2)) (1.24.3)\n",
            "Requirement already satisfied: idna<3,>=2.5 in /usr/local/lib/python3.7/dist-packages (from requests<3,>=2->-r /content/CallBomber/requirements.txt (line 1)) (2.10)\n",
            "Requirement already satisfied: certifi>=2017.4.17 in /usr/local/lib/python3.7/dist-packages (from requests<3,>=2->-r /content/CallBomber/requirements.txt (line 1)) (2020.12.5)\n",
            "Requirement already satisfied: chardet<4,>=3.0.2 in /usr/local/lib/python3.7/dist-packages (from requests<3,>=2->-r /content/CallBomber/requirements.txt (line 1)) (3.0.4)\n",
            "\u001b[H\u001b[2J\u001b[H\u001b[2J\u001b[1;35m \n",
            "  ____      _                ____ _               _   \n",
            " / ___|   _| |__   ___ _ __ / ___| |__   ___  ___| |_ \n",
            "| |  | | | | '_ \\ / _ \\ '__| |  _| '_ \\ / _ \\/ __| __|\n",
            "| |__| |_| | |_) |  __/ |  | |_| | | | | (_) \\__ \\ |_ \n",
            " \\____\\__, |_.__/ \\___|_|   \\____|_| |_|\\___/|___/\\__|\n",
            "      |___/  \u001b[0m\n",
            "\n",
            "\n",
            "Your Version is Up-To-Date\n",
            "\n",
            "\n",
            "\t\t\tStarting CyberGhostWeapon...\n",
            "\n",
            "\n",
            "\tEnter Your Country Code (Without +) : \n"
          ],
          "name": "stdout"
        }
      ]
    }
  ]
}